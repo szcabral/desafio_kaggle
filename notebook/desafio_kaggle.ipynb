{
 "cells": [
  {
   "cell_type": "markdown",
   "id": "b6c52a60",
   "metadata": {},
   "source": [
    "## Predição de Sucesso de Startups  \n",
    "\n",
    "Notebook desenvolvido para explorar e modelar dados reais de startups, com foco em prever se uma empresa terá **sucesso (ativa/adquirida)** ou **insucesso (fechada)**.  \n",
    "O projeto envolve análise exploratória, tratamento de valores ausentes, seleção de variáveis e aplicação de modelos de classificação binária, estimulando o uso de técnicas de pré-processamento e aprendizado de máquina aplicadas ao empreendedorismo.  "
   ]
  },
  {
   "cell_type": "code",
   "execution_count": null,
   "id": "227347f4",
   "metadata": {},
   "outputs": [],
   "source": [
    "# Importação de bibliotecas\n",
    "import pandas as pd\n",
    "import numpy as np\n",
    "import sklearn as skl\n",
    "import matplotlib.pyplot as plt\n",
    "import seaborn as sns\n",
    "\n",
    "# Configurações de visualização\n",
    "plt.rcParams['figure.figsize'] = (12, 8)\n",
    "plt.rcParams['font.size'] = 12\n",
    "pd.set_option('display.max_columns', None)\n",
    "pd.set_option('display.max_rows', 100)\n",
    "\n",
    "print(\"Bibliotecas carregadas com sucesso\")"
   ]
  },
  {
   "cell_type": "markdown",
   "id": "d35251bd",
   "metadata": {},
   "source": [
    "### 1. Carregamento de dados"
   ]
  },
  {
   "cell_type": "code",
   "execution_count": null,
   "id": "70ddd8a3",
   "metadata": {},
   "outputs": [],
   "source": [
    "# Carregamento do dataset principal\n",
    "train_df = pd.read_csv(\"../data/train.csv\")\n",
    "test_df = pd.read_csv(\"../data/test.csv\")\n",
    "\n",
    "print(\"Dados de treino carregados com sucesso. Shape: {}\".format(train_df.shape))\n",
    "print(\"Dados de teste carregados com sucesso. Shape: {}\".format(test_df.shape))\n",
    "\n",
    "print(\"Primeiras 5 linhas dos dados de treino:\")\n",
    "print(train_df.head(5))"
   ]
  },
  {
   "cell_type": "code",
   "execution_count": null,
   "id": "2311629d",
   "metadata": {},
   "outputs": [],
   "source": [
    "print(\"Informações gerais sobre os treinos:\")\n",
    "train_df.info()\n",
    "\n",
    "print(\"Estatísticas descritivas dos treinos:\")\n",
    "print(train_df.describe())\n",
    "\n",
    "print(\"Valores ausentes nos treinos:\")\n",
    "print(train_df.isnull().sum()[train_df.isnull().sum() > 0])\n",
    "\n",
    "print(\"Distribuição da variável alvo (labels):\")\n",
    "print(train_df[\"labels\"].value_counts())\n",
    "print(train_df[\"labels\"].value_counts(normalize=True) * 100)"
   ]
  },
  {
   "cell_type": "code",
   "execution_count": null,
   "id": "6097bf50",
   "metadata": {},
   "outputs": [],
   "source": [
    "# 3. Tratando dados ausentes\n",
    "cols_to_impute_median = [\n",
    "    'age_first_funding_year', 'age_last_funding_year',\n",
    "    'age_first_milestone_year', 'age_last_milestone_year',\n",
    "    'funding_total_usd'\n",
    "]\n",
    "\n",
    "for col in cols_to_impute_median:\n",
    "    median_val = train_df[col].median()\n",
    "    train_df[col].fillna(median_val, inplace=True)\n",
    "    test_df[col].fillna(median_val, inplace=True)\n",
    "\n",
    "print(\"Valores ausentes tratados pela mediana para colunas: {}.\".format(cols_to_impute_median))\n",
    "print(\"\\nVerificando valores ausentes após imputação dos treinos:\")\n",
    "print(train_df[cols_to_impute_median].isnull().sum())\n"
   ]
  },
  {
   "cell_type": "code",
   "execution_count": null,
   "id": "bf78547c",
   "metadata": {},
   "outputs": [],
   "source": [
    "# Aplicando one hot encoding para category_code\n",
    "categorical_col = [\"category_code\"]\n",
    "\n",
    "train_df = pd.get_dummies(train_df, columns=categorical_col, drop_first=True)\n",
    "test_df = pd.get_dummies(test_df, columns=categorical_col, drop_first=True)\n",
    "\n",
    "# Alinhamento entre colunas de treino e teste\n",
    "missing_cols_in_test = set(train_df.columns) - set(test_df.columns)\n",
    "missing_cols_in_train = set(test_df.columns) - set(train_df.columns)\n",
    "\n",
    "for col in missing_cols_in_test:\n",
    "    if col != 'labels':  #Evitando coluna alvo em teste\n",
    "        test_df[col] = 0\n",
    "\n",
    "for col in missing_cols_in_train:\n",
    "    if col != 'labels':  #Evitando coluna alvo em treino\n",
    "        train_df[col] = 0\n"
   ]
  },
  {
   "cell_type": "code",
   "execution_count": null,
   "id": "53f73400",
   "metadata": {},
   "outputs": [],
   "source": []
  }
 ],
 "metadata": {
  "kernelspec": {
   "display_name": "Python 3",
   "language": "python",
   "name": "python3"
  },
  "language_info": {
   "codemirror_mode": {
    "name": "ipython",
    "version": 3
   },
   "file_extension": ".py",
   "mimetype": "text/x-python",
   "name": "python",
   "nbconvert_exporter": "python",
   "pygments_lexer": "ipython3",
   "version": "3.12.1"
  }
 },
 "nbformat": 4,
 "nbformat_minor": 5
}
