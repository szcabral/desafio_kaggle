{
  "cells": [
    {
      "cell_type": "markdown",
      "id": "8594a3f2",
      "metadata": {},
      "source": [
        "# Predição de Sucesso de Startups\n",
        "\n",
        "Este notebook tem como objetivo explorar e modelar dados reais de startups para prever se uma empresa terá sucesso (ativa/adquirida) ou insucesso (fechada).\n",
        "\n",
        "Inclui: análise exploratória, tratamento de dados, seleção de variáveis, modelagem e avaliação de resultados."
      ]
    },
    {
      "cell_type": "markdown",
      "id": "9a86dc53",
      "metadata": {},
      "source": [
        "## 1. Importação de Bibliotecas"
      ]
    },
    {
      "cell_type": "code",
      "execution_count": null,
      "id": "1483ed2d",
      "metadata": {},
      "outputs": [],
      "source": [
        "import pandas as pd\n",
        "import numpy as np\n",
        "import matplotlib.pyplot as plt\n",
        "import seaborn as sns\n",
        "from sklearn.model_selection import train_test_split, RandomizedSearchCV, cross_val_score\n",
        "from sklearn.linear_model import LogisticRegression\n",
        "from sklearn.ensemble import RandomForestClassifier\n",
        "from sklearn.feature_selection import SelectFromModel\n",
        "from sklearn.preprocessing import StandardScaler\n",
        "from sklearn.metrics import classification_report, accuracy_score, confusion_matrix\n"
      ]
    },
    {
      "cell_type": "markdown",
      "id": "94dc2dbc",
      "metadata": {},
      "source": [
        "## 2. Carregamento e pré-visualização dos dados"
      ]
    },
    {
      "cell_type": "code",
      "execution_count": null,
      "id": "332e11e6",
      "metadata": {},
      "outputs": [],
      "source": [
        "train_df = pd.read_csv(\"../data/train.csv\")\n",
        "test_df = pd.read_csv(\"../data/test.csv\")\n",
        "print(\"Dados de treino carregados com sucesso. Shape: {}\".format(train_df.shape))\n",
        "print(\"Dados de teste carregados com sucesso. Shape: {}\".format(test_df.shape))\n",
        "\n",
        "print(train_df.head(5))\n",
        "print(train_df.info())\n",
        "print(train_df.describe())\n",
        "print(train_df.isnull().sum()[train_df.isnull().sum() > 0])\n",
        "print(train_df[\"labels\"].value_counts())\n",
        "print(train_df[\"labels\"].value_counts(normalize=True) * 100)\n"
      ]
    },
    {
      "cell_type": "markdown",
      "id": "c98c10a4",
      "metadata": {},
      "source": [
        "## 3. Criação de novas features"
      ]
    },
    {
      "cell_type": "code",
      "execution_count": null,
      "id": "c82fc545",
      "metadata": {},
      "outputs": [],
      "source": [
        "def create_features(df):\n",
        "    df['mean_funding_age'] = (df['age_first_funding_year'] + df['age_last_funding_year']) / 2\n",
        "    df['milestone_duration'] = df['age_last_milestone_year'] - df['age_first_milestone_year']\n",
        "    df['milestone_duration'].fillna(0, inplace=True)\n",
        "    df['milestones_per_round'] = df['milestones'] / df['funding_rounds'].replace(0, np.nan)\n",
        "    df['milestones_per_round'].fillna(0, inplace=True)\n",
        "    rounds_flags = ['has_VC', 'has_angel', 'has_roundA', 'has_roundB', 'has_roundC', 'has_roundD']\n",
        "    df['total_round_flags'] = df[rounds_flags].sum(axis=1)\n",
        "    df['relationships_per_round'] = df['relationships'] / df['funding_rounds'].replace(0, np.nan)\n",
        "    df['relationships_per_round'].fillna(0, inplace=True)\n",
        "    location_flags = ['is_CA', 'is_NY', 'is_MA', 'is_TX', 'is_otherstate']\n",
        "    df['total_location_flags'] = df[location_flags].sum(axis=1)\n",
        "    return df\n",
        "\n",
        "train_df = create_features(train_df)\n",
        "test_df = create_features(test_df)\n"
      ]
    },
    {
      "cell_type": "markdown",
      "id": "047f0f15",
      "metadata": {},
      "source": [
        "## 4. Tratamento de valores ausentes"
      ]
    },
    {
      "cell_type": "code",
      "execution_count": null,
      "id": "30efd708",
      "metadata": {},
      "outputs": [],
      "source": [
        "cols_to_impute_median = [\n",
        "    'age_first_funding_year', 'age_last_funding_year',\n",
        "    'age_first_milestone_year', 'age_last_milestone_year',\n",
        "    'funding_total_usd',\n",
        "    'mean_funding_age', 'milestone_duration',\n",
        "    'milestones_per_round', 'total_round_flags',\n",
        "    'relationships_per_round', 'total_location_flags'\n",
        "]\n",
        "\n",
        "for col in cols_to_impute_median:\n",
        "    median_val = train_df[col].median()\n",
        "    train_df[col].fillna(median_val, inplace=True)\n",
        "    test_df[col].fillna(median_val, inplace=True)\n"
      ]
    },
    {
      "cell_type": "markdown",
      "id": "638ce1d7",
      "metadata": {},
      "source": [
        "## 5. Codificação de variáveis categóricas e alinhamento entre treinos e teste"
      ]
    },
    {
      "cell_type": "code",
      "execution_count": null,
      "id": "8267f587",
      "metadata": {},
      "outputs": [],
      "source": [
        "categorical_col = [\"category_code\"]\n",
        "train_df = pd.get_dummies(train_df, columns=categorical_col, drop_first=True)\n",
        "test_df = pd.get_dummies(test_df, columns=categorical_col, drop_first=True)\n",
        "\n",
        "missing_cols_in_test = set(train_df.columns) - set(test_df.columns)\n",
        "missing_cols_in_train = set(test_df.columns) - set(train_df.columns)\n",
        "for col in missing_cols_in_test:\n",
        "    if col != 'labels':\n",
        "        test_df[col] = 0\n",
        "for col in missing_cols_in_train:\n",
        "    if col != 'labels':\n",
        "        train_df[col] = 0\n"
      ]
    },
    {
      "cell_type": "markdown",
      "id": "67379699",
      "metadata": {},
      "source": [
        "## 6. Separação de features e target e padronização"
      ]
    },
    {
      "cell_type": "code",
      "execution_count": null,
      "id": "1f24b0e2",
      "metadata": {},
      "outputs": [],
      "source": [
        "X_train_full = train_df.drop(\"labels\", axis=1)\n",
        "y_train_full = train_df[\"labels\"]\n",
        "X_test = test_df.copy()\n",
        "\n",
        "numerical_cols = [\n",
        "    col for col in X_train_full.columns\n",
        "    if X_train_full[col].dtype in [\"int64\", \"float64\"]\n",
        "    and not col.startswith(\"is_\")\n",
        "    and not col.startswith(\"category_code_\")\n",
        "]\n",
        "\n",
        "X_train, X_val, y_train, y_val = train_test_split(\n",
        "    X_train_full, y_train_full,\n",
        "    test_size=0.2,\n",
        "    stratify=y_train_full,\n",
        "    random_state=42)\n",
        "\n",
        "scaler = StandardScaler()\n",
        "X_train_scaled = X_train.copy()\n",
        "X_val_scaled = X_val.copy()\n",
        "X_test_scaled = X_test.copy()\n",
        "\n",
        "X_train_scaled[numerical_cols] = scaler.fit_transform(X_train[numerical_cols])\n",
        "X_val_scaled[numerical_cols] = scaler.transform(X_val[numerical_cols])\n",
        "X_test_scaled[numerical_cols] = scaler.transform(X_test[numerical_cols])\n"
      ]
    },
    {
      "cell_type": "markdown",
      "id": "0181b3f8",
      "metadata": {},
      "source": [
        "## 7. Seleção de features e modelo Random Forest com RandomizedSearchCV"
      ]
    },
    {
      "cell_type": "code",
      "execution_count": null,
      "id": "cf05219b",
      "metadata": {},
      "outputs": [],
      "source": [
        "selector = SelectFromModel(\n",
        "    LogisticRegression(class_weight='balanced', solver='liblinear', max_iter=1000, random_state=42),\n",
        "    threshold='mean'\n",
        ")\n",
        "selector.fit(X_train_scaled, y_train)\n",
        "\n",
        "X_train_sel = selector.transform(X_train_scaled)\n",
        "X_val_sel = selector.transform(X_val_scaled)\n",
        "X_test_aligned = X_test_scaled[X_train_scaled.columns]\n",
        "X_test_sel = selector.transform(X_test_aligned)\n",
        "\n",
        "rf = RandomForestClassifier(class_weight='balanced', random_state=42)\n",
        "\n",
        "param_dist = {\n",
        "    'n_estimators': [100, 200, 300, 400, 500],\n",
        "    'max_depth': [5, 10, 20, 30, None],\n",
        "    'min_samples_split': [2, 5, 10, 15],\n",
        "    'min_samples_leaf': [1, 2, 4, 8],\n",
        "    'bootstrap': [True, False]\n",
        "}\n",
        "\n",
        "random_search_rf = RandomizedSearchCV(\n",
        "    rf,\n",
        "    param_dist,\n",
        "    n_iter=50,\n",
        "    cv=5,\n",
        "    scoring='accuracy',\n",
        "    n_jobs=-1,\n",
        "    random_state=42,\n",
        "    verbose=1\n",
        ")\n",
        "random_search_rf.fit(X_train_sel, y_train)\n",
        "\n",
        "print(f'Melhor estimador Random Forest: {random_search_rf.best_params_}')\n"
      ]
    },
    {
      "cell_type": "markdown",
      "id": "916f85f8",
      "metadata": {},
      "source": [
        "## 8. Avaliação do modelo com métricas completas e matriz de confusão"
      ]
    },
    {
      "cell_type": "code",
      "execution_count": null,
      "id": "b10d5b75",
      "metadata": {},
      "outputs": [],
      "source": [
        "from sklearn.metrics import confusion_matrix\n",
        "y_val_pred = random_search_rf.predict(X_val_sel)\n",
        "print(\"Relatório de classificação no conjunto de validação:\")\n",
        "print(classification_report(y_val, y_val_pred))\n",
        "print(f\"Acurácia no conjunto de validação: {accuracy_score(y_val, y_val_pred):.4f}\")\n",
        "cm = confusion_matrix(y_val, y_val_pred)\n",
        "plt.figure(figsize=(6,4))\n",
        "sns.heatmap(cm, annot=True, fmt='d', cmap='Blues')\n",
        "plt.xlabel('Predito')\n",
        "plt.ylabel('Verdadeiro')\n",
        "plt.title('Matriz de Confusão')\n",
        "plt.show()\n"
      ]
    },
    {
      "cell_type": "markdown",
      "id": "5da56e2b",
      "metadata": {},
      "source": [
        "## 9. Validação cruzada para avaliação robusta"
      ]
    },
    {
      "cell_type": "code",
      "execution_count": null,
      "id": "a4ae8aff",
      "metadata": {},
      "outputs": [],
      "source": [
        "cv_scores = cross_val_score(random_search_rf.best_estimator_, X_train_sel, y_train, cv=5, scoring='accuracy')\n",
        "print(f'Validação cruzada (5-fold) - Acurácia média: {cv_scores.mean():.4f} +- {cv_scores.std():.4f}')\n"
      ]
    },
    {
      "cell_type": "markdown",
      "id": "6fbaf27a",
      "metadata": {},
      "source": [
        "## 10. Treinamento final e submissão"
      ]
    },
    {
      "cell_type": "code",
      "execution_count": null,
      "id": "5fa56517",
      "metadata": {},
      "outputs": [],
      "source": [
        "best_model = random_search_rf.best_estimator_\n",
        "best_model.fit(selector.transform(X_train_full), y_train_full)\n",
        "submission_preds = best_model.predict(X_test_sel)\n",
        "submission_df = pd.DataFrame({'id': test_df['id'], 'labels': submission_preds})\n",
        "submission_df.to_csv('../data/submission.csv', index=False)\n",
        "print(\"Arquivo de submissão salvo em '../data/submission.csv'\")\n"
      ]
    }
  ],
  "metadata": {
    "kernelspec": {
      "display_name": "Python 3",
      "language": "python",
      "name": "python3"
    },
    "language_info": {
      "name": "python",
      "version": "3.12"
    }
  },
  "nbformat": 4,
  "nbformat_minor": 5
}
